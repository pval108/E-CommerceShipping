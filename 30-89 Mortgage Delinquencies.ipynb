{
 "cells": [
  {
   "cell_type": "code",
   "execution_count": 76,
   "metadata": {},
   "outputs": [
    {
     "data": {
      "text/plain": [
       "'\\n\\nhttps://www.consumerfinance.gov/data-research/mortgage-performance-trends/download-the-data/\\n'"
      ]
     },
     "execution_count": 76,
     "metadata": {},
     "output_type": "execute_result"
    }
   ],
   "source": [
    "import pandas as pd\n",
    "import numpy as np\n",
    "import seaborn as sns\n",
    "import matplotlib.pyplot as plt\n",
    "\n",
    "\"\"\"\n",
    "\n",
    "https://www.consumerfinance.gov/data-research/mortgage-performance-trends/download-the-data/\n",
    "\"\"\"\n",
    "\n",
    "\n",
    "# MAE, MSE, RMSE, RMSLE"
   ]
  },
  {
   "cell_type": "code",
   "execution_count": 60,
   "metadata": {},
   "outputs": [],
   "source": [
    "df1 = pd.read_csv('CountyMortgagesPercent-90-plusDaysLate-thru-2020-06.csv')\n",
    "df2 = pd.read_csv('CountyMortgagesPercent-30-89DaysLate-thru-2020-06.csv')"
   ]
  },
  {
   "cell_type": "code",
   "execution_count": 61,
   "metadata": {},
   "outputs": [
    {
     "data": {
      "text/plain": [
       "(471, 154)"
      ]
     },
     "execution_count": 61,
     "metadata": {},
     "output_type": "execute_result"
    }
   ],
   "source": [
    "df1.shape"
   ]
  },
  {
   "cell_type": "code",
   "execution_count": 62,
   "metadata": {},
   "outputs": [
    {
     "data": {
      "text/html": [
       "<div>\n",
       "<style scoped>\n",
       "    .dataframe tbody tr th:only-of-type {\n",
       "        vertical-align: middle;\n",
       "    }\n",
       "\n",
       "    .dataframe tbody tr th {\n",
       "        vertical-align: top;\n",
       "    }\n",
       "\n",
       "    .dataframe thead th {\n",
       "        text-align: right;\n",
       "    }\n",
       "</style>\n",
       "<table border=\"1\" class=\"dataframe\">\n",
       "  <thead>\n",
       "    <tr style=\"text-align: right;\">\n",
       "      <th></th>\n",
       "      <th>RegionType</th>\n",
       "      <th>State</th>\n",
       "      <th>Name</th>\n",
       "      <th>FIPSCode</th>\n",
       "      <th>variable</th>\n",
       "      <th>value</th>\n",
       "    </tr>\n",
       "  </thead>\n",
       "  <tbody>\n",
       "    <tr>\n",
       "      <th>0</th>\n",
       "      <td>National</td>\n",
       "      <td>NaN</td>\n",
       "      <td>United States</td>\n",
       "      <td>-----</td>\n",
       "      <td>2008-01</td>\n",
       "      <td>1.5</td>\n",
       "    </tr>\n",
       "    <tr>\n",
       "      <th>1</th>\n",
       "      <td>County</td>\n",
       "      <td>AL</td>\n",
       "      <td>Baldwin County</td>\n",
       "      <td>'01003'</td>\n",
       "      <td>2008-01</td>\n",
       "      <td>1.3</td>\n",
       "    </tr>\n",
       "    <tr>\n",
       "      <th>2</th>\n",
       "      <td>County</td>\n",
       "      <td>AL</td>\n",
       "      <td>Jefferson County</td>\n",
       "      <td>'01073'</td>\n",
       "      <td>2008-01</td>\n",
       "      <td>2.1</td>\n",
       "    </tr>\n",
       "    <tr>\n",
       "      <th>3</th>\n",
       "      <td>County</td>\n",
       "      <td>AL</td>\n",
       "      <td>Lee County</td>\n",
       "      <td>'01081'</td>\n",
       "      <td>2008-01</td>\n",
       "      <td>1.4</td>\n",
       "    </tr>\n",
       "    <tr>\n",
       "      <th>4</th>\n",
       "      <td>County</td>\n",
       "      <td>AL</td>\n",
       "      <td>Madison County</td>\n",
       "      <td>'01089'</td>\n",
       "      <td>2008-01</td>\n",
       "      <td>0.8</td>\n",
       "    </tr>\n",
       "  </tbody>\n",
       "</table>\n",
       "</div>"
      ],
      "text/plain": [
       "  RegionType State              Name FIPSCode variable  value\n",
       "0   National   NaN     United States    -----  2008-01    1.5\n",
       "1     County    AL    Baldwin County  '01003'  2008-01    1.3\n",
       "2     County    AL  Jefferson County  '01073'  2008-01    2.1\n",
       "3     County    AL        Lee County  '01081'  2008-01    1.4\n",
       "4     County    AL    Madison County  '01089'  2008-01    0.8"
      ]
     },
     "execution_count": 62,
     "metadata": {},
     "output_type": "execute_result"
    }
   ],
   "source": [
    "df1 = pd.melt(df1, id_vars=['RegionType','State','Name','FIPSCode']) \n",
    "df1.head()"
   ]
  },
  {
   "cell_type": "code",
   "execution_count": 63,
   "metadata": {},
   "outputs": [
    {
     "data": {
      "text/html": [
       "<div>\n",
       "<style scoped>\n",
       "    .dataframe tbody tr th:only-of-type {\n",
       "        vertical-align: middle;\n",
       "    }\n",
       "\n",
       "    .dataframe tbody tr th {\n",
       "        vertical-align: top;\n",
       "    }\n",
       "\n",
       "    .dataframe thead th {\n",
       "        text-align: right;\n",
       "    }\n",
       "</style>\n",
       "<table border=\"1\" class=\"dataframe\">\n",
       "  <thead>\n",
       "    <tr style=\"text-align: right;\">\n",
       "      <th></th>\n",
       "      <th>RegionType</th>\n",
       "      <th>State</th>\n",
       "      <th>Name</th>\n",
       "      <th>FIPSCode</th>\n",
       "      <th>variable</th>\n",
       "      <th>value</th>\n",
       "    </tr>\n",
       "  </thead>\n",
       "  <tbody>\n",
       "    <tr>\n",
       "      <th>0</th>\n",
       "      <td>National</td>\n",
       "      <td>NaN</td>\n",
       "      <td>United States</td>\n",
       "      <td>-----</td>\n",
       "      <td>2008-01</td>\n",
       "      <td>3.5</td>\n",
       "    </tr>\n",
       "    <tr>\n",
       "      <th>1</th>\n",
       "      <td>County</td>\n",
       "      <td>AL</td>\n",
       "      <td>Baldwin County</td>\n",
       "      <td>'01003'</td>\n",
       "      <td>2008-01</td>\n",
       "      <td>2.8</td>\n",
       "    </tr>\n",
       "    <tr>\n",
       "      <th>2</th>\n",
       "      <td>County</td>\n",
       "      <td>AL</td>\n",
       "      <td>Jefferson County</td>\n",
       "      <td>'01073'</td>\n",
       "      <td>2008-01</td>\n",
       "      <td>5.1</td>\n",
       "    </tr>\n",
       "    <tr>\n",
       "      <th>3</th>\n",
       "      <td>County</td>\n",
       "      <td>AL</td>\n",
       "      <td>Lee County</td>\n",
       "      <td>'01081'</td>\n",
       "      <td>2008-01</td>\n",
       "      <td>3.8</td>\n",
       "    </tr>\n",
       "    <tr>\n",
       "      <th>4</th>\n",
       "      <td>County</td>\n",
       "      <td>AL</td>\n",
       "      <td>Madison County</td>\n",
       "      <td>'01089'</td>\n",
       "      <td>2008-01</td>\n",
       "      <td>3.5</td>\n",
       "    </tr>\n",
       "  </tbody>\n",
       "</table>\n",
       "</div>"
      ],
      "text/plain": [
       "  RegionType State              Name FIPSCode variable  value\n",
       "0   National   NaN     United States    -----  2008-01    3.5\n",
       "1     County    AL    Baldwin County  '01003'  2008-01    2.8\n",
       "2     County    AL  Jefferson County  '01073'  2008-01    5.1\n",
       "3     County    AL        Lee County  '01081'  2008-01    3.8\n",
       "4     County    AL    Madison County  '01089'  2008-01    3.5"
      ]
     },
     "execution_count": 63,
     "metadata": {},
     "output_type": "execute_result"
    }
   ],
   "source": [
    "df2 = pd.melt(df2, id_vars=['RegionType','State','Name','FIPSCode']) \n",
    "df2.head()"
   ]
  },
  {
   "cell_type": "code",
   "execution_count": 64,
   "metadata": {},
   "outputs": [],
   "source": [
    "df1 = df1.rename(columns={'variable':'Date','value':'Value'})"
   ]
  },
  {
   "cell_type": "code",
   "execution_count": 65,
   "metadata": {},
   "outputs": [],
   "source": [
    " df1['Date'] = df1['Date'].astype('datetime64[ns]')"
   ]
  },
  {
   "cell_type": "code",
   "execution_count": 66,
   "metadata": {},
   "outputs": [],
   "source": [
    "df1[['State']]=df1[['State']].replace(np.nan, 'US', regex=True)"
   ]
  },
  {
   "cell_type": "code",
   "execution_count": 67,
   "metadata": {},
   "outputs": [
    {
     "data": {
      "text/plain": [
       "RegionType            object\n",
       "State                 object\n",
       "Name                  object\n",
       "FIPSCode              object\n",
       "Date          datetime64[ns]\n",
       "Value                float64\n",
       "dtype: object"
      ]
     },
     "execution_count": 67,
     "metadata": {},
     "output_type": "execute_result"
    }
   ],
   "source": [
    "df1.dtypes"
   ]
  },
  {
   "cell_type": "code",
   "execution_count": 68,
   "metadata": {},
   "outputs": [
    {
     "data": {
      "text/html": [
       "<div>\n",
       "<style scoped>\n",
       "    .dataframe tbody tr th:only-of-type {\n",
       "        vertical-align: middle;\n",
       "    }\n",
       "\n",
       "    .dataframe tbody tr th {\n",
       "        vertical-align: top;\n",
       "    }\n",
       "\n",
       "    .dataframe thead th {\n",
       "        text-align: right;\n",
       "    }\n",
       "</style>\n",
       "<table border=\"1\" class=\"dataframe\">\n",
       "  <thead>\n",
       "    <tr style=\"text-align: right;\">\n",
       "      <th></th>\n",
       "      <th>RegionType</th>\n",
       "      <th>State</th>\n",
       "      <th>Name</th>\n",
       "      <th>FIPSCode</th>\n",
       "      <th>Date</th>\n",
       "      <th>Value</th>\n",
       "    </tr>\n",
       "  </thead>\n",
       "  <tbody>\n",
       "    <tr>\n",
       "      <th>0</th>\n",
       "      <td>National</td>\n",
       "      <td>US</td>\n",
       "      <td>United States</td>\n",
       "      <td>-----</td>\n",
       "      <td>2008-01-01</td>\n",
       "      <td>1.5</td>\n",
       "    </tr>\n",
       "    <tr>\n",
       "      <th>73</th>\n",
       "      <td>County</td>\n",
       "      <td>FL</td>\n",
       "      <td>Alachua County</td>\n",
       "      <td>'12001'</td>\n",
       "      <td>2008-01-01</td>\n",
       "      <td>1.5</td>\n",
       "    </tr>\n",
       "    <tr>\n",
       "      <th>74</th>\n",
       "      <td>County</td>\n",
       "      <td>FL</td>\n",
       "      <td>Bay County</td>\n",
       "      <td>'12005'</td>\n",
       "      <td>2008-01-01</td>\n",
       "      <td>1.5</td>\n",
       "    </tr>\n",
       "    <tr>\n",
       "      <th>75</th>\n",
       "      <td>County</td>\n",
       "      <td>FL</td>\n",
       "      <td>Brevard County</td>\n",
       "      <td>'12009'</td>\n",
       "      <td>2008-01-01</td>\n",
       "      <td>2.1</td>\n",
       "    </tr>\n",
       "    <tr>\n",
       "      <th>76</th>\n",
       "      <td>County</td>\n",
       "      <td>FL</td>\n",
       "      <td>Broward County</td>\n",
       "      <td>'12011'</td>\n",
       "      <td>2008-01-01</td>\n",
       "      <td>3.2</td>\n",
       "    </tr>\n",
       "    <tr>\n",
       "      <th>...</th>\n",
       "      <td>...</td>\n",
       "      <td>...</td>\n",
       "      <td>...</td>\n",
       "      <td>...</td>\n",
       "      <td>...</td>\n",
       "      <td>...</td>\n",
       "    </tr>\n",
       "    <tr>\n",
       "      <th>70279</th>\n",
       "      <td>County</td>\n",
       "      <td>FL</td>\n",
       "      <td>St. Lucie County</td>\n",
       "      <td>'12111'</td>\n",
       "      <td>2020-06-01</td>\n",
       "      <td>0.8</td>\n",
       "    </tr>\n",
       "    <tr>\n",
       "      <th>70280</th>\n",
       "      <td>County</td>\n",
       "      <td>FL</td>\n",
       "      <td>Santa Rosa County</td>\n",
       "      <td>'12113'</td>\n",
       "      <td>2020-06-01</td>\n",
       "      <td>0.6</td>\n",
       "    </tr>\n",
       "    <tr>\n",
       "      <th>70281</th>\n",
       "      <td>County</td>\n",
       "      <td>FL</td>\n",
       "      <td>Sarasota County</td>\n",
       "      <td>'12115'</td>\n",
       "      <td>2020-06-01</td>\n",
       "      <td>0.4</td>\n",
       "    </tr>\n",
       "    <tr>\n",
       "      <th>70282</th>\n",
       "      <td>County</td>\n",
       "      <td>FL</td>\n",
       "      <td>Seminole County</td>\n",
       "      <td>'12117'</td>\n",
       "      <td>2020-06-01</td>\n",
       "      <td>0.4</td>\n",
       "    </tr>\n",
       "    <tr>\n",
       "      <th>70283</th>\n",
       "      <td>County</td>\n",
       "      <td>FL</td>\n",
       "      <td>Volusia County</td>\n",
       "      <td>'12127'</td>\n",
       "      <td>2020-06-01</td>\n",
       "      <td>0.6</td>\n",
       "    </tr>\n",
       "  </tbody>\n",
       "</table>\n",
       "<p>4950 rows × 6 columns</p>\n",
       "</div>"
      ],
      "text/plain": [
       "      RegionType State               Name FIPSCode       Date  Value\n",
       "0       National    US      United States    ----- 2008-01-01    1.5\n",
       "73        County    FL     Alachua County  '12001' 2008-01-01    1.5\n",
       "74        County    FL         Bay County  '12005' 2008-01-01    1.5\n",
       "75        County    FL     Brevard County  '12009' 2008-01-01    2.1\n",
       "76        County    FL     Broward County  '12011' 2008-01-01    3.2\n",
       "...          ...   ...                ...      ...        ...    ...\n",
       "70279     County    FL   St. Lucie County  '12111' 2020-06-01    0.8\n",
       "70280     County    FL  Santa Rosa County  '12113' 2020-06-01    0.6\n",
       "70281     County    FL    Sarasota County  '12115' 2020-06-01    0.4\n",
       "70282     County    FL    Seminole County  '12117' 2020-06-01    0.4\n",
       "70283     County    FL     Volusia County  '12127' 2020-06-01    0.6\n",
       "\n",
       "[4950 rows x 6 columns]"
      ]
     },
     "execution_count": 68,
     "metadata": {},
     "output_type": "execute_result"
    }
   ],
   "source": [
    "st = df1[(df1['Name']=='United States') | (df1['State']=='FL')]\n",
    "st"
   ]
  },
  {
   "cell_type": "code",
   "execution_count": 69,
   "metadata": {},
   "outputs": [
    {
     "data": {
      "text/html": [
       "<div>\n",
       "<style scoped>\n",
       "    .dataframe tbody tr th:only-of-type {\n",
       "        vertical-align: middle;\n",
       "    }\n",
       "\n",
       "    .dataframe tbody tr th {\n",
       "        vertical-align: top;\n",
       "    }\n",
       "\n",
       "    .dataframe thead th {\n",
       "        text-align: right;\n",
       "    }\n",
       "</style>\n",
       "<table border=\"1\" class=\"dataframe\">\n",
       "  <thead>\n",
       "    <tr style=\"text-align: right;\">\n",
       "      <th></th>\n",
       "      <th>RegionType</th>\n",
       "      <th>State</th>\n",
       "      <th>Name</th>\n",
       "      <th>FIPSCode</th>\n",
       "      <th>Date</th>\n",
       "      <th>Value</th>\n",
       "    </tr>\n",
       "  </thead>\n",
       "  <tbody>\n",
       "    <tr>\n",
       "      <th>0</th>\n",
       "      <td>National</td>\n",
       "      <td>US</td>\n",
       "      <td>United States</td>\n",
       "      <td>-----</td>\n",
       "      <td>2008-01-01</td>\n",
       "      <td>1.5</td>\n",
       "    </tr>\n",
       "    <tr>\n",
       "      <th>73</th>\n",
       "      <td>County</td>\n",
       "      <td>FL</td>\n",
       "      <td>Alachua County</td>\n",
       "      <td>'12001'</td>\n",
       "      <td>2008-01-01</td>\n",
       "      <td>1.5</td>\n",
       "    </tr>\n",
       "    <tr>\n",
       "      <th>74</th>\n",
       "      <td>County</td>\n",
       "      <td>FL</td>\n",
       "      <td>Bay County</td>\n",
       "      <td>'12005'</td>\n",
       "      <td>2008-01-01</td>\n",
       "      <td>1.5</td>\n",
       "    </tr>\n",
       "    <tr>\n",
       "      <th>75</th>\n",
       "      <td>County</td>\n",
       "      <td>FL</td>\n",
       "      <td>Brevard County</td>\n",
       "      <td>'12009'</td>\n",
       "      <td>2008-01-01</td>\n",
       "      <td>2.1</td>\n",
       "    </tr>\n",
       "    <tr>\n",
       "      <th>76</th>\n",
       "      <td>County</td>\n",
       "      <td>FL</td>\n",
       "      <td>Broward County</td>\n",
       "      <td>'12011'</td>\n",
       "      <td>2008-01-01</td>\n",
       "      <td>3.2</td>\n",
       "    </tr>\n",
       "    <tr>\n",
       "      <th>...</th>\n",
       "      <td>...</td>\n",
       "      <td>...</td>\n",
       "      <td>...</td>\n",
       "      <td>...</td>\n",
       "      <td>...</td>\n",
       "      <td>...</td>\n",
       "    </tr>\n",
       "    <tr>\n",
       "      <th>70279</th>\n",
       "      <td>County</td>\n",
       "      <td>FL</td>\n",
       "      <td>St. Lucie County</td>\n",
       "      <td>'12111'</td>\n",
       "      <td>2020-06-01</td>\n",
       "      <td>0.8</td>\n",
       "    </tr>\n",
       "    <tr>\n",
       "      <th>70280</th>\n",
       "      <td>County</td>\n",
       "      <td>FL</td>\n",
       "      <td>Santa Rosa County</td>\n",
       "      <td>'12113'</td>\n",
       "      <td>2020-06-01</td>\n",
       "      <td>0.6</td>\n",
       "    </tr>\n",
       "    <tr>\n",
       "      <th>70281</th>\n",
       "      <td>County</td>\n",
       "      <td>FL</td>\n",
       "      <td>Sarasota County</td>\n",
       "      <td>'12115'</td>\n",
       "      <td>2020-06-01</td>\n",
       "      <td>0.4</td>\n",
       "    </tr>\n",
       "    <tr>\n",
       "      <th>70282</th>\n",
       "      <td>County</td>\n",
       "      <td>FL</td>\n",
       "      <td>Seminole County</td>\n",
       "      <td>'12117'</td>\n",
       "      <td>2020-06-01</td>\n",
       "      <td>0.4</td>\n",
       "    </tr>\n",
       "    <tr>\n",
       "      <th>70283</th>\n",
       "      <td>County</td>\n",
       "      <td>FL</td>\n",
       "      <td>Volusia County</td>\n",
       "      <td>'12127'</td>\n",
       "      <td>2020-06-01</td>\n",
       "      <td>0.6</td>\n",
       "    </tr>\n",
       "  </tbody>\n",
       "</table>\n",
       "<p>4950 rows × 6 columns</p>\n",
       "</div>"
      ],
      "text/plain": [
       "      RegionType State               Name FIPSCode       Date  Value\n",
       "0       National    US      United States    ----- 2008-01-01    1.5\n",
       "73        County    FL     Alachua County  '12001' 2008-01-01    1.5\n",
       "74        County    FL         Bay County  '12005' 2008-01-01    1.5\n",
       "75        County    FL     Brevard County  '12009' 2008-01-01    2.1\n",
       "76        County    FL     Broward County  '12011' 2008-01-01    3.2\n",
       "...          ...   ...                ...      ...        ...    ...\n",
       "70279     County    FL   St. Lucie County  '12111' 2020-06-01    0.8\n",
       "70280     County    FL  Santa Rosa County  '12113' 2020-06-01    0.6\n",
       "70281     County    FL    Sarasota County  '12115' 2020-06-01    0.4\n",
       "70282     County    FL    Seminole County  '12117' 2020-06-01    0.4\n",
       "70283     County    FL     Volusia County  '12127' 2020-06-01    0.6\n",
       "\n",
       "[4950 rows x 6 columns]"
      ]
     },
     "execution_count": 69,
     "metadata": {},
     "output_type": "execute_result"
    }
   ],
   "source": [
    "st"
   ]
  },
  {
   "cell_type": "code",
   "execution_count": 70,
   "metadata": {},
   "outputs": [
    {
     "data": {
      "text/plain": [
       "<matplotlib.axes._subplots.AxesSubplot at 0x1592d46f208>"
      ]
     },
     "execution_count": 70,
     "metadata": {},
     "output_type": "execute_result"
    },
    {
     "data": {
      "image/png": "[encoded data removed]",
      "text/plain": [
       "<Figure size 842.4x595.44 with 1 Axes>"
      ]
     },
     "metadata": {},
     "output_type": "display_data"
    }
   ],
   "source": [
    "sns.set(rc={'figure.figsize':(11.7,8.27)})\n",
    "sns.lineplot(x='Date',y='Value',hue='State',data=st)"
   ]
  },
  {
   "cell_type": "code",
   "execution_count": 71,
   "metadata": {},
   "outputs": [
    {
     "data": {
      "text/plain": [
       "<matplotlib.axes._subplots.AxesSubplot at 0x1592f2d4160>"
      ]
     },
     "execution_count": 71,
     "metadata": {},
     "output_type": "execute_result"
    },
    {
     "data": {
      "image/png": "[encoded data removed]",
      "text/plain": [
       "<Figure size 842.4x595.44 with 1 Axes>"
      ]
     },
     "metadata": {},
     "output_type": "display_data"
    }
   ],
   "source": [
    "sns.boxplot(x='State',y='Value',data=st)"
   ]
  },
  {
   "cell_type": "code",
   "execution_count": 72,
   "metadata": {},
   "outputs": [],
   "source": [
    "st2 = df1[(df1['Name']=='Miami-Dade County') | (df1['Name']=='Broward County')]"
   ]
  },
  {
   "cell_type": "code",
   "execution_count": 73,
   "metadata": {},
   "outputs": [
    {
     "data": {
      "text/html": [
       "<div>\n",
       "<style scoped>\n",
       "    .dataframe tbody tr th:only-of-type {\n",
       "        vertical-align: middle;\n",
       "    }\n",
       "\n",
       "    .dataframe tbody tr th {\n",
       "        vertical-align: top;\n",
       "    }\n",
       "\n",
       "    .dataframe thead th {\n",
       "        text-align: right;\n",
       "    }\n",
       "</style>\n",
       "<table border=\"1\" class=\"dataframe\">\n",
       "  <thead>\n",
       "    <tr style=\"text-align: right;\">\n",
       "      <th></th>\n",
       "      <th>RegionType</th>\n",
       "      <th>State</th>\n",
       "      <th>Name</th>\n",
       "      <th>FIPSCode</th>\n",
       "      <th>Date</th>\n",
       "      <th>Value</th>\n",
       "    </tr>\n",
       "  </thead>\n",
       "  <tbody>\n",
       "    <tr>\n",
       "      <th>76</th>\n",
       "      <td>County</td>\n",
       "      <td>FL</td>\n",
       "      <td>Broward County</td>\n",
       "      <td>'12011'</td>\n",
       "      <td>2008-01-01</td>\n",
       "      <td>3.2</td>\n",
       "    </tr>\n",
       "    <tr>\n",
       "      <th>91</th>\n",
       "      <td>County</td>\n",
       "      <td>FL</td>\n",
       "      <td>Miami-Dade County</td>\n",
       "      <td>'12086'</td>\n",
       "      <td>2008-01-01</td>\n",
       "      <td>3.0</td>\n",
       "    </tr>\n",
       "    <tr>\n",
       "      <th>547</th>\n",
       "      <td>County</td>\n",
       "      <td>FL</td>\n",
       "      <td>Broward County</td>\n",
       "      <td>'12011'</td>\n",
       "      <td>2008-02-01</td>\n",
       "      <td>3.3</td>\n",
       "    </tr>\n",
       "    <tr>\n",
       "      <th>562</th>\n",
       "      <td>County</td>\n",
       "      <td>FL</td>\n",
       "      <td>Miami-Dade County</td>\n",
       "      <td>'12086'</td>\n",
       "      <td>2008-02-01</td>\n",
       "      <td>3.3</td>\n",
       "    </tr>\n",
       "    <tr>\n",
       "      <th>1018</th>\n",
       "      <td>County</td>\n",
       "      <td>FL</td>\n",
       "      <td>Broward County</td>\n",
       "      <td>'12011'</td>\n",
       "      <td>2008-03-01</td>\n",
       "      <td>3.4</td>\n",
       "    </tr>\n",
       "    <tr>\n",
       "      <th>...</th>\n",
       "      <td>...</td>\n",
       "      <td>...</td>\n",
       "      <td>...</td>\n",
       "      <td>...</td>\n",
       "      <td>...</td>\n",
       "      <td>...</td>\n",
       "    </tr>\n",
       "    <tr>\n",
       "      <th>69328</th>\n",
       "      <td>County</td>\n",
       "      <td>FL</td>\n",
       "      <td>Miami-Dade County</td>\n",
       "      <td>'12086'</td>\n",
       "      <td>2020-04-01</td>\n",
       "      <td>0.8</td>\n",
       "    </tr>\n",
       "    <tr>\n",
       "      <th>69784</th>\n",
       "      <td>County</td>\n",
       "      <td>FL</td>\n",
       "      <td>Broward County</td>\n",
       "      <td>'12011'</td>\n",
       "      <td>2020-05-01</td>\n",
       "      <td>0.9</td>\n",
       "    </tr>\n",
       "    <tr>\n",
       "      <th>69799</th>\n",
       "      <td>County</td>\n",
       "      <td>FL</td>\n",
       "      <td>Miami-Dade County</td>\n",
       "      <td>'12086'</td>\n",
       "      <td>2020-05-01</td>\n",
       "      <td>0.7</td>\n",
       "    </tr>\n",
       "    <tr>\n",
       "      <th>70255</th>\n",
       "      <td>County</td>\n",
       "      <td>FL</td>\n",
       "      <td>Broward County</td>\n",
       "      <td>'12011'</td>\n",
       "      <td>2020-06-01</td>\n",
       "      <td>0.8</td>\n",
       "    </tr>\n",
       "    <tr>\n",
       "      <th>70270</th>\n",
       "      <td>County</td>\n",
       "      <td>FL</td>\n",
       "      <td>Miami-Dade County</td>\n",
       "      <td>'12086'</td>\n",
       "      <td>2020-06-01</td>\n",
       "      <td>0.7</td>\n",
       "    </tr>\n",
       "  </tbody>\n",
       "</table>\n",
       "<p>300 rows × 6 columns</p>\n",
       "</div>"
      ],
      "text/plain": [
       "      RegionType State               Name FIPSCode       Date  Value\n",
       "76        County    FL     Broward County  '12011' 2008-01-01    3.2\n",
       "91        County    FL  Miami-Dade County  '12086' 2008-01-01    3.0\n",
       "547       County    FL     Broward County  '12011' 2008-02-01    3.3\n",
       "562       County    FL  Miami-Dade County  '12086' 2008-02-01    3.3\n",
       "1018      County    FL     Broward County  '12011' 2008-03-01    3.4\n",
       "...          ...   ...                ...      ...        ...    ...\n",
       "69328     County    FL  Miami-Dade County  '12086' 2020-04-01    0.8\n",
       "69784     County    FL     Broward County  '12011' 2020-05-01    0.9\n",
       "69799     County    FL  Miami-Dade County  '12086' 2020-05-01    0.7\n",
       "70255     County    FL     Broward County  '12011' 2020-06-01    0.8\n",
       "70270     County    FL  Miami-Dade County  '12086' 2020-06-01    0.7\n",
       "\n",
       "[300 rows x 6 columns]"
      ]
     },
     "execution_count": 73,
     "metadata": {},
     "output_type": "execute_result"
    }
   ],
   "source": [
    "st2"
   ]
  },
  {
   "cell_type": "code",
   "execution_count": 74,
   "metadata": {},
   "outputs": [
    {
     "data": {
      "text/plain": [
       "<matplotlib.axes._subplots.AxesSubplot at 0x1592f34fe48>"
      ]
     },
     "execution_count": 74,
     "metadata": {},
     "output_type": "execute_result"
    },
    {
     "data": {
      "image/png": "[encoded data removed]",
      "text/plain": [
       "<Figure size 842.4x595.44 with 1 Axes>"
      ]
     },
     "metadata": {},
     "output_type": "display_data"
    }
   ],
   "source": [
    "sns.set(rc={'figure.figsize':(11.7,8.27)})\n",
    "sns.lineplot(x='Date',y='Value',hue='Name',data=st2)"
   ]
  },
  {
   "cell_type": "code",
   "execution_count": 75,
   "metadata": {},
   "outputs": [
    {
     "data": {
      "text/plain": [
       "<matplotlib.axes._subplots.AxesSubplot at 0x15930208dd8>"
      ]
     },
     "execution_count": 75,
     "metadata": {},
     "output_type": "execute_result"
    },
    {
     "data": {
      "image/png": "[encoded data removed]",
      "text/plain": [
       "<Figure size 842.4x595.44 with 1 Axes>"
      ]
     },
     "metadata": {},
     "output_type": "display_data"
    }
   ],
   "source": [
    "sns.boxplot(x='Name',y='Value',data=st2)"
   ]
  },
  {
   "cell_type": "code",
   "execution_count": 77,
   "metadata": {},
   "outputs": [],
   "source": [
    "#stationary - when the mean is constant, \n",
    "#the sd is constant, and there CANNOT be seasonality (repeating patterns - no periodic behavior)\n",
    "\n",
    "#* if a condition is white noise, we know it is also stationary\n",
    "#but just because it is statioonary, doesnt mean it is white noise\n",
    "\n",
    "\n",
    "#testing for stationary - there are 3 ways\n",
    "#visually\n",
    "#global vs local tests - when the local mean/sd is not the same as the global mean\n",
    "#augmented dickey fueller test (ADF)  statistical way of telling if something is stationary\n",
    "\n",
    "\n",
    "\n"
   ]
  },
  {
   "cell_type": "code",
   "execution_count": null,
   "metadata": {},
   "outputs": [],
   "source": []
  },
  {
   "cell_type": "code",
   "execution_count": null,
   "metadata": {},
   "outputs": [],
   "source": []
  }
 ],
 "metadata": {
  "kernelspec": {
   "display_name": "Python 3",
   "language": "python",
   "name": "python3"
  },
  "language_info": {
   "codemirror_mode": {
    "name": "ipython",
    "version": 3
   },
   "file_extension": ".py",
   "mimetype": "text/x-python",
   "name": "python",
   "nbconvert_exporter": "python",
   "pygments_lexer": "ipython3",
   "version": "3.7.3"
  }
 },
 "nbformat": 4,
 "nbformat_minor": 4
}
